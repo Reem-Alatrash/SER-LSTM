{
 "cells": [
  {
   "cell_type": "markdown",
   "metadata": {},
   "source": [
    "### Preprocessing Data"
   ]
  },
  {
   "cell_type": "code",
   "execution_count": 2,
   "metadata": {},
   "outputs": [],
   "source": [
    "'''\n",
    "Author: Reem Alatrash\n",
    "Python ver: 2.7\n",
    "Note(s): run in py 2.7 with the data extracted using py 2.7\n",
    "'''\n",
    "#>>>>>> Imports <<<<<<\n",
    "from sklearn import preprocessing\n",
    "import xarray as xr\n",
    "import numpy\n",
    "import pickle\n",
    "\n",
    "#>>>>>> Variables <<<<<<\n",
    "# Step 1: Preparing data\n",
    "input_dir = \"/mount/studenten/arbeitsdaten-studenten1/alatrarm/DL-project/\" \n",
    "#names = ['data_prosody.train', 'data_logMel.train', 'data_prosody.valid', 'data_logMel.valid', 'data_prosody.test', \n",
    "#         'data_logMel.test']\n",
    "file_paths = [input_dir + \"data_prosody.train\", input_dir + \"data_logMel.train\", input_dir + \"data_prosody.valid\", \n",
    "              input_dir + \"data_logMel.valid\", input_dir + \"data_prosody.test\", input_dir + \"data_logMel.test\"]\n",
    "\n",
    "logMel_train_ids = []\n",
    "logMel_train_features = []\n",
    "logMel_train_labels = []\n",
    "logMel_valid_ids = []\n",
    "logMel_valid_features = []\n",
    "logMel_valid_labels = []\n",
    "logMel_test_ids = []\n",
    "logMel_test_features = []\n",
    "logMel_test_labels = []\n",
    "input_height = 750 # height = no. of rows/segments (750)\n",
    "input_width = 26 # this is the no. of cols (26 in logmel file)\n",
    "# Fix random seed for reproducibility\n",
    "seed = 42\n",
    "numpy.random.seed(seed)\n",
    "\n",
    "#>>>>>> functions <<<<<<\n",
    "def unpickle_data(path):\n",
    "    '''returns 3 lists: data Ids, features, labels'''    \n",
    "    with open(path, 'rb') as f_in:\n",
    "        ids = pickle.load(f_in)\n",
    "        features = pickle.load(f_in)\n",
    "        labels = pickle.load(f_in)\n",
    "        #print(len(ids), len(features), len(labels))\n",
    "        #print(\"{0}\\n{1}\\n{2}\".format(ids[10],features[10],labels[10]))\n",
    "        return ids, features, labels\n",
    "\n",
    "# 1.1 unpickle files (load data)\n",
    "logMel_file_paths = list(x for x in file_paths if \"logMel\" in x)\n",
    "#print(logMel_file_paths)\n",
    "logMel_train_ids,logMel_train_features,logMel_train_labels = unpickle_data(logMel_file_paths[0])\n",
    "logMel_valid_ids,logMel_valid_features,logMel_valid_labels = unpickle_data(logMel_file_paths[1])\n",
    "#logMel_test_ids,logMel_test_features,logMel_test_labels = unpickle_data(logMel_file_paths[2])"
   ]
  },
  {
   "cell_type": "code",
   "execution_count": 3,
   "metadata": {},
   "outputs": [
    {
     "data": {
      "text/plain": [
       "array([[-0.30185997, -0.17951228, -0.20728439, ..., -0.20882277,\n",
       "        -0.20962653, -0.23362449],\n",
       "       [-0.1370023 , -0.14933842, -0.15480784, ..., -0.19376287,\n",
       "        -0.2273447 , -0.19915864],\n",
       "       [-0.15421958, -0.14079733, -0.21985704, ..., -0.2208747 ,\n",
       "        -0.21001929, -0.20459358],\n",
       "       ...,\n",
       "       [ 0.        ,  0.        ,  0.        , ...,  0.        ,\n",
       "         0.        ,  0.        ],\n",
       "       [ 0.        ,  0.        ,  0.        , ...,  0.        ,\n",
       "         0.        ,  0.        ],\n",
       "       [ 0.        ,  0.        ,  0.        , ...,  0.        ,\n",
       "         0.        ,  0.        ]], dtype=float32)"
      ]
     },
     "execution_count": 3,
     "metadata": {},
     "output_type": "execute_result"
    }
   ],
   "source": [
    "#1.2 Normalize data\n",
    "train_scaler = preprocessing.Normalizer(norm='l2', copy=False).fit(logMel_train_features[0,:,:])\n",
    "valid_scaler = preprocessing.Normalizer(norm='l2', copy=False).fit(logMel_valid_features[0,:,:])\n",
    "#test_scaler = preprocessing.Normalizer(norm='l2', copy=False).fit(logMel_test_features[0,:,:])\n",
    "\n",
    "train_scaler.transform(logMel_train_features[0,:,:])\n",
    "valid_scaler.transform(logMel_valid_features[0,:,:])\n",
    "#test_scaler.transform(logMel_test_features[0,:,:])\n",
    "\n",
    "#print(logMel_train_features[0])"
   ]
  },
  {
   "cell_type": "code",
   "execution_count": 4,
   "metadata": {},
   "outputs": [],
   "source": [
    "# 1.3.0 encode the string labels into numeric values    \n",
    "le = preprocessing.LabelEncoder()\n",
    "le.fit([\"angry\", \"happy\", \"sad\", \"neutral\"])\n",
    "logMel_train_encoded_labels = le.transform(logMel_train_labels)\n",
    "logMel_valid_encoded_labels = le.transform(logMel_valid_labels)\n",
    "\n",
    "# to decode these labels use the following command: example\n",
    "#results = list(le.inverse_transform([2, 2, 1]))"
   ]
  },
  {
   "cell_type": "code",
   "execution_count": 5,
   "metadata": {},
   "outputs": [],
   "source": [
    "# 1.3.1 One hot encoding for the target vector\n",
    "from keras.utils import np_utils\n",
    "y_logMel_train_cat = np_utils.to_categorical(logMel_train_encoded_labels)\n",
    "y_logMel_valid_cat = np_utils.to_categorical(logMel_valid_encoded_labels)"
   ]
  },
  {
   "cell_type": "markdown",
   "metadata": {},
   "source": [
    "### Creating LSTM Model"
   ]
  },
  {
   "cell_type": "code",
   "execution_count": 15,
   "metadata": {},
   "outputs": [
    {
     "name": "stdout",
     "output_type": "stream",
     "text": [
      "_________________________________________________________________\n",
      "Layer (type)                 Output Shape              Param #   \n",
      "=================================================================\n",
      "dense_5 (Dense)              (None, 750, 100)          2700      \n",
      "_________________________________________________________________\n",
      "lstm_5 (LSTM)                (None, 32)                17024     \n",
      "_________________________________________________________________\n",
      "dense_6 (Dense)              (None, 4)                 132       \n",
      "=================================================================\n",
      "Total params: 19,856\n",
      "Trainable params: 19,856\n",
      "Non-trainable params: 0\n",
      "_________________________________________________________________\n"
     ]
    }
   ],
   "source": [
    "# Step 2: define model\n",
    "from keras.models import Sequential, Model\n",
    "from keras.layers import Bidirectional, SimpleRNN, LSTM, Input, Dense, Flatten, Dropout, BatchNormalization\n",
    "from keras.layers.merge import Concatenate\n",
    "from keras import optimizers\n",
    "\n",
    "loss_func = 'categorical_crossentropy'\n",
    "optimizer_func = 'RMSprop'\n",
    "in_dense_units = 100 \n",
    "in_dense_activ = 'tanh'\n",
    "lstm_activ = 'tanh'\n",
    "lstm_1_units = 32\n",
    "lstm_2_units = 32\n",
    "drop_rate1 = 0.0\n",
    "drop_rate2 = 0.0#0.5\n",
    "r_drop_rate1 = 0.25\n",
    "r_drop_rate2 = 0.25\n",
    "\n",
    "# 2.0 define model\n",
    "# 2.1 use sequential model\n",
    "model = Sequential()\n",
    "# 2.2 add initial dense layer to handle input\n",
    "#model.add(Dense(units=in_dense_units, activation=in_dense_activ, input_shape=(logMel_train_features.shape[1:])))\n",
    "# 2.3 first LSTM layer \n",
    "model.add(LSTM(lstm_1_units, \n",
    "               dropout=drop_rate1, recurrent_dropout=r_drop_rate1, \n",
    "               input_shape=(logMel_train_features.shape[1:]))) #return_sequences=True, \n",
    "# 2.4 second LSTM layer \n",
    "#model.add(LSTM(lstm_2_units, dropout=drop_rate2, recurrent_dropout=r_drop_rate2))\n",
    "# 2.5 Batch normalization\n",
    "BatchNormalization(momentum=0.99)\n",
    "# 2.6 softmax output layer\n",
    "model.add(Dense(units=4, activation='softmax'))\n",
    "\n",
    "# 2.7 customize the learning rate for our optimizer\n",
    "rmsprop = optimizers.RMSprop(lr=0.003, rho=0.9, epsilon=None, decay=0.00)\n",
    "adam = optimizers.Adam(lr=0.003, beta_1=0.9, beta_2=0.999, epsilon=None, decay=0.00, amsgrad=True)\n",
    "optimizer_func = adam #rmsprop\n",
    "\n",
    "# 2.8 compile the model and sow a summary\n",
    "model.compile(loss=loss_func, optimizer=optimizer_func, metrics=['accuracy'])  \n",
    "model.summary()"
   ]
  },
  {
   "cell_type": "code",
   "execution_count": 16,
   "metadata": {},
   "outputs": [
    {
     "name": "stdout",
     "output_type": "stream",
     "text": [
      "Train on 5531 samples, validate on 5531 samples\n",
      "Epoch 1/8\n",
      "5531/5531 [==============================] - 47s 9ms/step - loss: 1.3634 - acc: 0.3045 - val_loss: 1.3565 - val_acc: 0.3177\n",
      "Epoch 2/8\n",
      "5531/5531 [==============================] - 48s 9ms/step - loss: 1.3578 - acc: 0.3195 - val_loss: 1.3554 - val_acc: 0.3173\n",
      "Epoch 3/8\n",
      "5531/5531 [==============================] - 55s 10ms/step - loss: 1.3575 - acc: 0.3032 - val_loss: 1.3532 - val_acc: 0.3195\n",
      "Epoch 4/8\n",
      "5531/5531 [==============================] - 54s 10ms/step - loss: 1.3554 - acc: 0.3180 - val_loss: 1.3522 - val_acc: 0.3202\n",
      "Epoch 5/8\n",
      "5531/5531 [==============================] - 55s 10ms/step - loss: 1.3544 - acc: 0.3074 - val_loss: 1.3521 - val_acc: 0.3202\n",
      "Epoch 6/8\n",
      "5531/5531 [==============================] - 55s 10ms/step - loss: 1.3557 - acc: 0.3108 - val_loss: 1.3514 - val_acc: 0.3211\n",
      "Epoch 7/8\n",
      "5531/5531 [==============================] - 55s 10ms/step - loss: 1.3513 - acc: 0.3175 - val_loss: 1.3502 - val_acc: 0.3216\n",
      "Epoch 8/8\n",
      "5531/5531 [==============================] - 55s 10ms/step - loss: 1.3503 - acc: 0.3142 - val_loss: 1.3483 - val_acc: 0.3220\n",
      "Accuracy on dev set:32.2003254384%\n"
     ]
    }
   ],
   "source": [
    "# Step 3: train model\n",
    "# Paramters\n",
    "total_epochs = 8 #50\n",
    "batch_s = 128\n",
    "number_training_samples = logMel_train_features.shape[1]\n",
    "#history = model.fit(logMel_train_features, y_logMel_train_cat, \n",
    "#                    validation_data=(logMel_valid_features, y_logMel_valid_cat), \n",
    "#                    epochs=total_epochs, batch_size=batch_s, verbose=1, shuffle=True)\n",
    "history = model.fit(logMel_train_features, y_logMel_train_cat, \n",
    "                    validation_data=(logMel_train_features, y_logMel_train_cat), \n",
    "                    epochs=total_epochs, batch_size=batch_s, verbose=1, shuffle=True)\n",
    "#score = model.evaluate(logMel_valid_features, y_logMel_valid_cat, verbose=0)\n",
    "score = model.evaluate(logMel_train_features, y_logMel_train_cat, verbose=0)\n",
    "print(\"Accuracy on dev set:{0}%\".format(score[1]*100))"
   ]
  },
  {
   "cell_type": "markdown",
   "metadata": {},
   "source": [
    "### Training History Visualization"
   ]
  },
  {
   "cell_type": "code",
   "execution_count": 82,
   "metadata": {},
   "outputs": [
    {
     "data": {
      "image/png": "[encoded data removed]",
      "text/plain": [
       "<Figure size 432x288 with 1 Axes>"
      ]
     },
     "metadata": {},
     "output_type": "display_data"
    },
    {
     "data": {
      "image/png": "[encoded data removed]",
      "text/plain": [
       "<Figure size 432x288 with 1 Axes>"
      ]
     },
     "metadata": {},
     "output_type": "display_data"
    }
   ],
   "source": [
    "%matplotlib inline\n",
    "%matplotlib inline\n",
    "import matplotlib.pyplot as plt\n",
    "# Plot training & validation accuracy values\n",
    "plt.plot(history.history['acc'])\n",
    "plt.plot(history.history['val_acc'])\n",
    "plt.title('Model accuracy')\n",
    "plt.ylabel('Accuracy')\n",
    "plt.xlabel('Epoch')\n",
    "plt.legend(['Train', 'Test'], loc='upper left')\n",
    "plt.show()\n",
    "\n",
    "# Plot training & validation loss values\n",
    "plt.plot(history.history['loss'])\n",
    "plt.plot(history.history['val_loss'])\n",
    "plt.title('Model loss')\n",
    "plt.ylabel('Loss')\n",
    "plt.xlabel('Epoch')\n",
    "plt.legend(['Train', 'Test'], loc='upper left')\n",
    "plt.show()"
   ]
  },
  {
   "cell_type": "markdown",
   "metadata": {},
   "source": [
    "### Prediction"
   ]
  },
  {
   "cell_type": "code",
   "execution_count": null,
   "metadata": {},
   "outputs": [],
   "source": [
    "# Step 4 Use model to predict\n",
    "# 4.1 Get Probability distribution over the classes shape:(elements, classes)\n",
    "prediction = model.predict(X_logMel_test_4D)\n",
    "\n",
    "print(\"Prediction shape:{0}\".format(prediction.shape))\n",
    "\n",
    "print prediction[0]\n",
    "\n",
    "# 4.2 Get the predictions list\n",
    "predicted_classes = model.predict(X_logMel_test_4D).argmax(axis=1)\n",
    "print(\"Prediction shape:{0}\".format(predicted_classes.shape))\n",
    "if len(logMel_test_ids) == len(predicted_classes):\n",
    "    print(\"ids and classes lengths match\")\n",
    "print(\"{0}\\t{1}\".format(logMel_test_ids[0],predicted_classes[0]))"
   ]
  },
  {
   "cell_type": "code",
   "execution_count": null,
   "metadata": {},
   "outputs": [],
   "source": [
    "# 4.3 Map predictions to ids and save to file\n",
    "results = list(le.inverse_transform(predicted_classes))\n",
    "#4.4 save results to file\n",
    "with open(\"predictions_LSTM.txt\", 'wb+') as f_out:\n",
    "    for idx in range(0,len(logMel_test_ids)):\n",
    "        f_out.write(\"{0}\\t{1}\\n\".format(logMel_test_ids[idx],results[idx]))\n",
    "print(\"done\") "
   ]
  }
 ],
 "metadata": {
  "kernelspec": {
   "display_name": "Python 2",
   "language": "python",
   "name": "python2"
  },
  "language_info": {
   "codemirror_mode": {
    "name": "ipython",
    "version": 2
   },
   "file_extension": ".py",
   "mimetype": "text/x-python",
   "name": "python",
   "nbconvert_exporter": "python",
   "pygments_lexer": "ipython2",
   "version": "2.7.15"
  }
 },
 "nbformat": 4,
 "nbformat_minor": 2
}
